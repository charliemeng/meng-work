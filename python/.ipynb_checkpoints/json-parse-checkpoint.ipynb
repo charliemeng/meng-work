{
 "metadata": {
  "name": "",
  "signature": "sha256:8afbbecb88cebd0c11e38815a42a2fae38273fc04465d9348df1ab9dbd788589"
 },
 "nbformat": 3,
 "nbformat_minor": 0,
 "worksheets": [
  {
   "cells": [
    {
     "cell_type": "code",
     "collapsed": false,
     "input": [
      "import json\n",
      "import time\n",
      "cur_date = time.strftime(\"%d-%m-%Y\")\n",
      "youtubeURLbase = \"http://www.youtube.com/watch?v=\""
     ],
     "language": "python",
     "metadata": {},
     "outputs": [],
     "prompt_number": 2
    },
    {
     "cell_type": "markdown",
     "metadata": {},
     "source": [
      "To get a bunch of youtube URLs to download the videos from:"
     ]
    },
    {
     "cell_type": "code",
     "collapsed": false,
     "input": [
      "files_to_download = open(\"to_download_\" + cur_date + \".txt\", \"w\")\n",
      "with open(\"videos_0829.json\") as f:\n",
      "    x = 0\n",
      "    for line in f:\n",
      "        data = json.loads(line)\n",
      "        if data.get(\"video_kind\", \"NONE\") != \"INTRO\":\n",
      "            files_to_download.write(youtubeURLbase + data[\"video_id\"] + \"\\n\")\n",
      "            x += 1\n",
      "files_to_download.close()\n",
      "print \"Number of videos that are not intros: \", x"
     ],
     "language": "python",
     "metadata": {},
     "outputs": [
      {
       "output_type": "stream",
       "stream": "stdout",
       "text": [
        "Number of videos:  6044\n"
       ]
      }
     ],
     "prompt_number": 41
    },
    {
     "cell_type": "markdown",
     "metadata": {},
     "source": [
      "The keys for Juho's JSON:"
     ]
    },
    {
     "cell_type": "code",
     "collapsed": false,
     "input": [
      "from pprint import pprint\n",
      "with open(\"videos_0829.json\") as f:\n",
      "    l = f.readline()\n",
      "    data = json.loads(l)\n",
      "    print \"Keys: \"\n",
      "    pprint(data.keys())\n",
      "    print \"\\nFirst data point: \"\n",
      "    pprint(data)"
     ],
     "language": "python",
     "metadata": {},
     "outputs": [
      {
       "output_type": "stream",
       "stream": "stdout",
       "text": [
        "Keys: \n",
        "[u'lecturer',\n",
        " u'recording_style',\n",
        " u'module_index',\n",
        " u'video_kind',\n",
        " u'video_id',\n",
        " u'video_src',\n",
        " u'host',\n",
        " u'week_number',\n",
        " u'duration',\n",
        " u'course_name',\n",
        " u'_id',\n",
        " u'sequence_number',\n",
        " u'video_name']\n",
        "\n",
        "First data point: \n",
        "{u'_id': {u'$oid': u'51f92fd3926246be4ab02aaf'},\n",
        " u'course_name': u'PH207x-Fall-2012',\n",
        " u'duration': 1238,\n",
        " u'host': u'youtube',\n",
        " u'lecturer': u'Cook and Pagano',\n",
        " u'module_index': 1,\n",
        " u'recording_style': u'H',\n",
        " u'sequence_number': 1,\n",
        " u'video_id': u'53uu-Ka8_L0',\n",
        " u'video_kind': u'INTRO',\n",
        " u'video_name': u'i4x-HarvardX-PH207x-video-Meet_the_Instructors',\n",
        " u'video_src': u'https://www.youtube.com/embed/53uu-Ka8_L0?controls=0&wmode=transparent&rel=0&showinfo=0&enablejsapi=1&modestbranding=1&origin=https%3A%2F%2Fcourses.edx.org',\n",
        " u'week_number': 0}\n"
       ]
      }
     ],
     "prompt_number": 33
    },
    {
     "cell_type": "code",
     "collapsed": false,
     "input": [
      "from collections import Counter\n",
      "list_of_kinds = []\n",
      "list_of_recording_styles = []\n",
      "with open(\"videos_0829.json\") as f:\n",
      "    for l in f:\n",
      "        data = json.loads(l)\n",
      "        list_of_kinds.append(data.get(\"video_kind\", \"NONE\"))\n",
      "        list_of_recording_styles.append(data.get(\"recording_style\", \"NONE\"))\n",
      "print Counter(list_of_kinds)\n",
      "print Counter(list_of_recording_styles)"
     ],
     "language": "python",
     "metadata": {},
     "outputs": [
      {
       "output_type": "stream",
       "stream": "stdout",
       "text": [
        "Counter({'NONE': 5207, u'LEC': 644, u'TUT': 127, u'INTRO': 25, u'SOLN': 24, u'PROB': 21, u'DEMO': 10, u'GUEST': 6, u'EXTRA': 5})\n",
        "Counter({'NONE': 5207, u'L': 211, u'HSP': 184, u'S': 162, u'SC': 78, u'K': 58, u'C': 47, u'HS': 46, u'HSC': 32, u'H': 19, u'V': 7, u'SV': 5, u'LS': 4, u'KC': 3, u'HCP': 3, u'HC': 2, u'HKP': 1})\n"
       ]
      }
     ],
     "prompt_number": 43
    },
    {
     "cell_type": "code",
     "collapsed": false,
     "input": [
      "from collections import Counter\n",
      "files_to_download_H = open(\"to_download_H_\" + cur_date + \".txt\", \"w\")\n",
      "files_to_download_LP = open(\"to_download_LP_\" + cur_date + \".txt\", \"w\")\n",
      "files_to_download_SCK = open(\"to_download_SCK_\" + cur_date + \".txt\", \"w\")\n",
      "list_of_recording_styles = []\n",
      "counter = 0\n",
      "num_in_category = 20 # get 20 per category as a start\n",
      "with open(\"videos_0829.json\") as f:\n",
      "    for l in f:\n",
      "        data = json.loads(l)\n",
      "        if data.get(\"video_kind\", \"NONE\") != \"INTRO\":\n",
      "            style = data.get(\"recording_style\", \"NONE\")\n",
      "            if style != \"NONE\":\n",
      "                style_list = list(style)\n",
      "                if 'H' in style_list:\n",
      "                    files_to_download_H.write(youtubeURLbase + data[\"video_id\"] + \"\\n\")\n",
      "                if 'L' in style_list or 'P' in style_list:\n",
      "                    files_to_download_LP.write(youtubeURLbase + data[\"video_id\"] + \"\\n\")\n",
      "                if 'S' in style_list or 'C' in style_list or 'K' in style_list:\n",
      "                    files_to_download_SCK.write(youtubeURLbase + data[\"video_id\"] + \"\\n\")\n",
      "                list_of_recording_styles.extend(style_list)\n",
      "            else:\n",
      "                list_of_recording_styles.append(\"NONE\")\n",
      "print Counter(list_of_recording_styles)\n",
      "print \"Head = \", Counter(list_of_recording_styles)['H']\n",
      "print \"Lecture, presentation = \", Counter(list_of_recording_styles)['L'] + Counter(list_of_recording_styles)['P']\n",
      "print \"Slides, Code, Khan = \", Counter(list_of_recording_styles)['S'] + Counter(list_of_recording_styles)['C'] + Counter(list_of_recording_styles)['K']\n",
      "files_to_download_H.close()\n",
      "files_to_download_LP.close()\n",
      "files_to_download_SCK.close()"
     ],
     "language": "python",
     "metadata": {},
     "outputs": [
      {
       "output_type": "stream",
       "stream": "stdout",
       "text": [
        "Counter({'NONE': 5207, u'S': 503, u'H': 267, u'L': 212, u'P': 188, u'C': 165, u'K': 62, u'V': 11})\n",
        "Head =  267\n",
        "Lecture, presentation =  400\n",
        "Slides, Code, Khan =  730\n"
       ]
      }
     ],
     "prompt_number": 10
    },
    {
     "cell_type": "code",
     "collapsed": false,
     "input": [
      "from collections import Counter\n",
      "import random\n",
      "files_to_download = open(\"to_download_\" + cur_date + \".txt\", \"w\")\n",
      "sample = {}\n",
      "num_vids_per_course = 30\n",
      "counter = 0\n",
      "with open(\"../videos_0829.json\") as f:\n",
      "    for line in f:\n",
      "        data = json.loads(line)\n",
      "        cn = data.get('course_name', 'NONE')\n",
      "        if cn != 'NONE':\n",
      "            data[\"youtube_URL\"] = youtubeURLbase + data[\"video_id\"]\n",
      "            sample[counter] = data\n",
      "            counter += 1\n",
      "#             vid_urls.append(youtubeURLbase + data[\"video_id\"])\n",
      "#                 files_to_download.write(youtubeURLbase + data[\"video_id\"] + \"\\n\")\n",
      "# print \"Course names = \", Counter(course_names)\n",
      "sample_list = random.sample(sample, num_vids_per_course*4)\n",
      "for s in sample_list:\n",
      "    files_to_download.write(sample[s]['youtube_URL'] + \"\\n\")\n",
      "    print sample[s]['youtube_URL']\n",
      "files_to_download.close()"
     ],
     "language": "python",
     "metadata": {},
     "outputs": [
      {
       "output_type": "stream",
       "stream": "stdout",
       "text": [
        " http://www.youtube.com/watch?v=Qw04HeuEPbk\n",
        "http://www.youtube.com/watch?v=bHHdQ5iUViQ\n",
        "http://www.youtube.com/watch?v=pX8Co4exuFg\n",
        "http://www.youtube.com/watch?v=j9as5xwUwA8\n",
        "http://www.youtube.com/watch?v=nTazOWEXVtY\n",
        "http://www.youtube.com/watch?v=ocuieiwbDFg\n",
        "http://www.youtube.com/watch?v=IRxsjPGh1oQ\n",
        "http://www.youtube.com/watch?v=63Ly_XojIGQ\n",
        "http://www.youtube.com/watch?v=iuaQXvguSeQ\n",
        "http://www.youtube.com/watch?v=17A-xYQLO18\n",
        "http://www.youtube.com/watch?v=MQLsi79MzuM\n",
        "http://www.youtube.com/watch?v=aCfLrC128O8\n",
        "http://www.youtube.com/watch?v=EW35W8ISJ10\n",
        "http://www.youtube.com/watch?v=efgUJILRjqY\n",
        "http://www.youtube.com/watch?v=ahgz_fK8Fc4\n",
        "http://www.youtube.com/watch?v=fwEyyCo5dxo\n",
        "http://www.youtube.com/watch?v=vmz9pVWI2S4\n",
        "http://www.youtube.com/watch?v=-D6CKs1G1kk\n",
        "http://www.youtube.com/watch?v=tJMrTNDdsR8\n",
        "http://www.youtube.com/watch?v=k4VnW2RVGbI\n",
        "http://www.youtube.com/watch?v=c8KfohHm-XQ\n",
        "http://www.youtube.com/watch?v=gAj5vgOzJB0\n",
        "http://www.youtube.com/watch?v=NdpkQIeLk-g\n",
        "http://www.youtube.com/watch?v=OdBhjzDCqQQ\n",
        "http://www.youtube.com/watch?v=X6v7CcrycX8\n",
        "http://www.youtube.com/watch?v=Zu0qEdz4Tq8\n",
        "http://www.youtube.com/watch?v=3lTItQsgSDs\n",
        "http://www.youtube.com/watch?v=aSyAn-jVFRo\n",
        "http://www.youtube.com/watch?v=0b0bWcbQmFk\n",
        "http://www.youtube.com/watch?v=ySyuy4m4zYY\n",
        "http://www.youtube.com/watch?v=uk1ewdp3KMY\n",
        "http://www.youtube.com/watch?v=tmQ6Mdcm8AQ\n",
        "http://www.youtube.com/watch?v=tKrGobosjqk\n",
        "http://www.youtube.com/watch?v=_I9SNSajOWs\n",
        "http://www.youtube.com/watch?v=FFrXg-qfpmI\n",
        "http://www.youtube.com/watch?v=0bBKN6El1bY\n",
        "http://www.youtube.com/watch?v=7rghn5b_qfk\n",
        "http://www.youtube.com/watch?v=EEHz8SUdbI4\n",
        "http://www.youtube.com/watch?v=B03dhB-YmMM\n",
        "http://www.youtube.com/watch?v=26pNOI3JuEU\n",
        "http://www.youtube.com/watch?v=aTuYZqhEvuk\n",
        "http://www.youtube.com/watch?v=dcObn7wom10\n",
        "http://www.youtube.com/watch?v=-pCLMkNgFdQ\n",
        "http://www.youtube.com/watch?v=DWmU3tOka7o\n",
        "http://www.youtube.com/watch?v=J1srKHdf6mY\n",
        "http://www.youtube.com/watch?v=5ucFcXOddiY\n",
        "http://www.youtube.com/watch?v=Qy4Na3_IHvw\n",
        "http://www.youtube.com/watch?v=no7Uclm6yzU\n",
        "http://www.youtube.com/watch?v=dioRzS_GaQE\n",
        "http://www.youtube.com/watch?v=rlBjhD1oGQg\n",
        "http://www.youtube.com/watch?v=4cz7_-_VlmI\n",
        "http://www.youtube.com/watch?v=lLvlhkSanOk\n",
        "http://www.youtube.com/watch?v=ZP_Q0vU-wU8\n",
        "http://www.youtube.com/watch?v=ADym6uDwBXk\n",
        "http://www.youtube.com/watch?v=FZe_6enqY68\n",
        "http://www.youtube.com/watch?v=DtPyN40SjaA\n",
        "http://www.youtube.com/watch?v=gWMmIdWVlS0\n",
        "http://www.youtube.com/watch?v=e7IErqC25nU\n",
        "http://www.youtube.com/watch?v=SSOZZiKaOeg\n",
        "http://www.youtube.com/watch?v=lTnTlmM33dA\n",
        "http://www.youtube.com/watch?v=D0-Z-ZcgjcQ\n",
        "http://www.youtube.com/watch?v=FjIUc6r0ois\n",
        "http://www.youtube.com/watch?v=essbIA-62ZY\n",
        "http://www.youtube.com/watch?v=3wQdFyPjkjU\n",
        "http://www.youtube.com/watch?v=5aUrP9_EXII\n",
        "http://www.youtube.com/watch?v=ImIkPKu99bk\n",
        "http://www.youtube.com/watch?v=fVlcF5en3g0\n",
        "http://www.youtube.com/watch?v=ZPgZkVEvnKs\n",
        "http://www.youtube.com/watch?v=mNP6p_AOmjM\n",
        "http://www.youtube.com/watch?v=nYTrV6k7g4o\n",
        "http://www.youtube.com/watch?v=PHInesUbdio\n",
        "http://www.youtube.com/watch?v=QzTLuXbYeSo\n",
        "http://www.youtube.com/watch?v=49xW1lvvUtQ\n",
        "http://www.youtube.com/watch?v=VEBPMdrQxrc\n",
        "http://www.youtube.com/watch?v=iCsMQqWIX2U\n",
        "http://www.youtube.com/watch?v=fxcudtZN-Q0\n",
        "http://www.youtube.com/watch?v=akzbhYApHno\n",
        "http://www.youtube.com/watch?v=XxlaDZ0bySM\n",
        "http://www.youtube.com/watch?v=_FlUgUyTduU\n",
        "http://www.youtube.com/watch?v=9k1PRISPs_0\n",
        "http://www.youtube.com/watch?v=jx0WwCGCh-0\n",
        "http://www.youtube.com/watch?v=bGWgqvhUfPU\n",
        "http://www.youtube.com/watch?v=j13ES8ZC8sw\n",
        "http://www.youtube.com/watch?v=Ln5vW33tFMA\n",
        "http://www.youtube.com/watch?v=uEa-hIa0CG8\n",
        "http://www.youtube.com/watch?v=CIfUmvR2VA8\n",
        "http://www.youtube.com/watch?v=ftu1cc1A8q8\n",
        "http://www.youtube.com/watch?v=3kFPoSjV2ow\n",
        "http://www.youtube.com/watch?v=3MzdXd6mje0\n",
        "http://www.youtube.com/watch?v=43P8Wqvi328\n",
        "http://www.youtube.com/watch?v=GuB2sjRio-s\n",
        "http://www.youtube.com/watch?v=WS4IPv--euc\n",
        "http://www.youtube.com/watch?v=kFGy66ICA7A\n",
        "http://www.youtube.com/watch?v=UtTt73HTMSY\n",
        "http://www.youtube.com/watch?v=3R0NJ1DrSx0\n",
        "http://www.youtube.com/watch?v=d-SBFpxf8Bk\n",
        "http://www.youtube.com/watch?v=6mVVQhE07Go\n",
        "http://www.youtube.com/watch?v=mXEXJ0_J5UM\n",
        "http://www.youtube.com/watch?v=Zi3q2FB1fDo\n",
        "http://www.youtube.com/watch?v=URzjqK17iCc\n",
        "http://www.youtube.com/watch?v=53QvCRQRvCg\n",
        "http://www.youtube.com/watch?v=DrPPd5g241E\n",
        "http://www.youtube.com/watch?v=bqmKVKr4rGI\n",
        "http://www.youtube.com/watch?v=V_c0bYQJXcM\n",
        "http://www.youtube.com/watch?v=Ylyl4jKYeFs\n",
        "http://www.youtube.com/watch?v=sPXUcis1E4M\n",
        "http://www.youtube.com/watch?v=6iR72rZ40B4\n",
        "http://www.youtube.com/watch?v=Iap2WfBtwgw\n",
        "http://www.youtube.com/watch?v=MLL-yOv9zsk\n",
        "http://www.youtube.com/watch?v=gg71vwObkd4\n",
        "http://www.youtube.com/watch?v=t9qkGfkAoAQ\n",
        "http://www.youtube.com/watch?v=G0qUN3eTqlo\n",
        "http://www.youtube.com/watch?v=y3oo0Uup7aU\n",
        "http://www.youtube.com/watch?v=oUudZVGIGBA\n",
        "http://www.youtube.com/watch?v=WntLU2CrfdE\n",
        "http://www.youtube.com/watch?v=ZwkTiUPN0mg\n",
        "http://www.youtube.com/watch?v=Kt9HB4Pw5Lk\n",
        "http://www.youtube.com/watch?v=jYZmz2RVBzo\n",
        "http://www.youtube.com/watch?v=-MOgiKPEhRo\n",
        "http://www.youtube.com/watch?v=FP4Hw1IEWCA\n"
       ]
      }
     ],
     "prompt_number": 5
    },
    {
     "cell_type": "code",
     "collapsed": false,
     "input": [],
     "language": "python",
     "metadata": {},
     "outputs": []
    }
   ],
   "metadata": {}
  }
 ]
}