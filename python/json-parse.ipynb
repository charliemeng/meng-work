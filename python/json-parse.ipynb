{
 "metadata": {
  "name": "",
  "signature": "sha256:52fcd47bd80e18dca0c40dd0de3f943b5babb71e901ee081df6f651bca5564e8"
 },
 "nbformat": 3,
 "nbformat_minor": 0,
 "worksheets": [
  {
   "cells": [
    {
     "cell_type": "code",
     "collapsed": false,
     "input": [
      "import json\n",
      "import time\n",
      "cur_date = time.strftime(\"%d-%m-%Y\")\n",
      "youtubeURLbase = \"http://www.youtube.com/watch?v=\""
     ],
     "language": "python",
     "metadata": {},
     "outputs": [],
     "prompt_number": 2
    },
    {
     "cell_type": "markdown",
     "metadata": {},
     "source": [
      "To get a bunch of youtube URLs to download the videos from:"
     ]
    },
    {
     "cell_type": "code",
     "collapsed": false,
     "input": [
      "files_to_download = open(\"to_download_\" + cur_date + \".txt\", \"w\")\n",
      "with open(\"videos_0829.json\") as f:\n",
      "    x = 0\n",
      "    for line in f:\n",
      "        data = json.loads(line)\n",
      "        if data.get(\"video_kind\", \"NONE\") != \"INTRO\":\n",
      "            files_to_download.write(youtubeURLbase + data[\"video_id\"] + \"\\n\")\n",
      "            x += 1\n",
      "files_to_download.close()\n",
      "print \"Number of videos that are not intros: \", x"
     ],
     "language": "python",
     "metadata": {},
     "outputs": [
      {
       "output_type": "stream",
       "stream": "stdout",
       "text": [
        "Number of videos:  6044\n"
       ]
      }
     ],
     "prompt_number": 41
    },
    {
     "cell_type": "markdown",
     "metadata": {},
     "source": [
      "The keys for Juho's JSON:"
     ]
    },
    {
     "cell_type": "code",
     "collapsed": false,
     "input": [
      "from pprint import pprint\n",
      "with open(\"videos_0829.json\") as f:\n",
      "    l = f.readline()\n",
      "    data = json.loads(l)\n",
      "    print \"Keys: \"\n",
      "    pprint(data.keys())\n",
      "    print \"\\nFirst data point: \"\n",
      "    pprint(data)"
     ],
     "language": "python",
     "metadata": {},
     "outputs": [
      {
       "output_type": "stream",
       "stream": "stdout",
       "text": [
        "Keys: \n",
        "[u'lecturer',\n",
        " u'recording_style',\n",
        " u'module_index',\n",
        " u'video_kind',\n",
        " u'video_id',\n",
        " u'video_src',\n",
        " u'host',\n",
        " u'week_number',\n",
        " u'duration',\n",
        " u'course_name',\n",
        " u'_id',\n",
        " u'sequence_number',\n",
        " u'video_name']\n",
        "\n",
        "First data point: \n",
        "{u'_id': {u'$oid': u'51f92fd3926246be4ab02aaf'},\n",
        " u'course_name': u'PH207x-Fall-2012',\n",
        " u'duration': 1238,\n",
        " u'host': u'youtube',\n",
        " u'lecturer': u'Cook and Pagano',\n",
        " u'module_index': 1,\n",
        " u'recording_style': u'H',\n",
        " u'sequence_number': 1,\n",
        " u'video_id': u'53uu-Ka8_L0',\n",
        " u'video_kind': u'INTRO',\n",
        " u'video_name': u'i4x-HarvardX-PH207x-video-Meet_the_Instructors',\n",
        " u'video_src': u'https://www.youtube.com/embed/53uu-Ka8_L0?controls=0&wmode=transparent&rel=0&showinfo=0&enablejsapi=1&modestbranding=1&origin=https%3A%2F%2Fcourses.edx.org',\n",
        " u'week_number': 0}\n"
       ]
      }
     ],
     "prompt_number": 33
    },
    {
     "cell_type": "code",
     "collapsed": false,
     "input": [
      "from collections import Counter\n",
      "list_of_kinds = []\n",
      "list_of_recording_styles = []\n",
      "with open(\"videos_0829.json\") as f:\n",
      "    for l in f:\n",
      "        data = json.loads(l)\n",
      "        list_of_kinds.append(data.get(\"video_kind\", \"NONE\"))\n",
      "        list_of_recording_styles.append(data.get(\"recording_style\", \"NONE\"))\n",
      "print Counter(list_of_kinds)\n",
      "print Counter(list_of_recording_styles)"
     ],
     "language": "python",
     "metadata": {},
     "outputs": [
      {
       "output_type": "stream",
       "stream": "stdout",
       "text": [
        "Counter({'NONE': 5207, u'LEC': 644, u'TUT': 127, u'INTRO': 25, u'SOLN': 24, u'PROB': 21, u'DEMO': 10, u'GUEST': 6, u'EXTRA': 5})\n",
        "Counter({'NONE': 5207, u'L': 211, u'HSP': 184, u'S': 162, u'SC': 78, u'K': 58, u'C': 47, u'HS': 46, u'HSC': 32, u'H': 19, u'V': 7, u'SV': 5, u'LS': 4, u'KC': 3, u'HCP': 3, u'HC': 2, u'HKP': 1})\n"
       ]
      }
     ],
     "prompt_number": 43
    },
    {
     "cell_type": "code",
     "collapsed": false,
     "input": [
      "from collections import Counter\n",
      "files_to_download_H = open(\"to_download_H_\" + cur_date + \".txt\", \"w\")\n",
      "files_to_download_LP = open(\"to_download_LP_\" + cur_date + \".txt\", \"w\")\n",
      "files_to_download_SCK = open(\"to_download_SCK_\" + cur_date + \".txt\", \"w\")\n",
      "list_of_recording_styles = []\n",
      "counter = 0\n",
      "num_in_category = 20 # get 20 per category as a start\n",
      "with open(\"videos_0829.json\") as f:\n",
      "    for l in f:\n",
      "        data = json.loads(l)\n",
      "        if data.get(\"video_kind\", \"NONE\") != \"INTRO\":\n",
      "            style = data.get(\"recording_style\", \"NONE\")\n",
      "            if style != \"NONE\":\n",
      "                style_list = list(style)\n",
      "                if 'H' in style_list:\n",
      "                    files_to_download_H.write(youtubeURLbase + data[\"video_id\"] + \"\\n\")\n",
      "                if 'L' in style_list or 'P' in style_list:\n",
      "                    files_to_download_LP.write(youtubeURLbase + data[\"video_id\"] + \"\\n\")\n",
      "                if 'S' in style_list or 'C' in style_list or 'K' in style_list:\n",
      "                    files_to_download_SCK.write(youtubeURLbase + data[\"video_id\"] + \"\\n\")\n",
      "                list_of_recording_styles.extend(style_list)\n",
      "            else:\n",
      "                list_of_recording_styles.append(\"NONE\")\n",
      "print Counter(list_of_recording_styles)\n",
      "print \"Head = \", Counter(list_of_recording_styles)['H']\n",
      "print \"Lecture, presentation = \", Counter(list_of_recording_styles)['L'] + Counter(list_of_recording_styles)['P']\n",
      "print \"Slides, Code, Khan = \", Counter(list_of_recording_styles)['S'] + Counter(list_of_recording_styles)['C'] + Counter(list_of_recording_styles)['K']\n",
      "files_to_download_H.close()\n",
      "files_to_download_LP.close()\n",
      "files_to_download_SCK.close()"
     ],
     "language": "python",
     "metadata": {},
     "outputs": [
      {
       "output_type": "stream",
       "stream": "stdout",
       "text": [
        "Counter({'NONE': 5207, u'S': 503, u'H': 267, u'L': 212, u'P': 188, u'C': 165, u'K': 62, u'V': 11})\n",
        "Head =  267\n",
        "Lecture, presentation =  400\n",
        "Slides, Code, Khan =  730\n"
       ]
      }
     ],
     "prompt_number": 10
    },
    {
     "cell_type": "code",
     "collapsed": false,
     "input": [
      "from collections import Counter\n",
      "import random\n",
      "files_to_download = open(\"to_download_\" + cur_date + \".txt\", \"w\")\n",
      "sample = {}\n",
      "num_vids_per_course = 30\n",
      "counter = 0\n",
      "with open(\"videos_0829.json\") as f:\n",
      "    for line in f:\n",
      "        data = json.loads(line)\n",
      "        cn = data.get('course_name', 'NONE')\n",
      "        if cn != 'NONE':\n",
      "            data[\"youtube_URL\"] = youtubeURLbase + data[\"video_id\"]\n",
      "            sample[counter] = data\n",
      "            counter += 1\n",
      "#             vid_urls.append(youtubeURLbase + data[\"video_id\"])\n",
      "#                 files_to_download.write(youtubeURLbase + data[\"video_id\"] + \"\\n\")\n",
      "print \"Course names = \", Counter(course_names)\n",
      "sample_list = random.sample(sample, num_vids_per_course*4)\n",
      "for s in sample_list:\n",
      "    files_to_download.write(sample[s]['youtube_URL'])\n",
      "    print sample[s]['youtube_URL']\n",
      "files_to_download.close()"
     ],
     "language": "python",
     "metadata": {},
     "outputs": [
      {
       "output_type": "stream",
       "stream": "stdout",
       "text": [
        "Course names =  Counter({u'PH207x-Fall-2012': 301, u'3.091x-Fall-2012': 271, u'CS188x-Fall-2012': 149, u'6.00x-Fall-2012': 141})\n",
        "http://www.youtube.com/watch?v=WFKMGelPh5k\n",
        "http://www.youtube.com/watch?v=g5ePPX30o0E\n",
        "http://www.youtube.com/watch?v=mylsICZfBpo\n",
        "http://www.youtube.com/watch?v=alXS7grfFtk\n",
        "http://www.youtube.com/watch?v=zhKN60gDjk8\n",
        "http://www.youtube.com/watch?v=oP_Z-JWMawA\n",
        "http://www.youtube.com/watch?v=vazRFv52gPE\n",
        "http://www.youtube.com/watch?v=ahgz_fK8Fc4\n",
        "http://www.youtube.com/watch?v=xzHbLScYVsM\n",
        "http://www.youtube.com/watch?v=IXUHkIlAdKM\n",
        "http://www.youtube.com/watch?v=TupVGS51KU0\n",
        "http://www.youtube.com/watch?v=CJh-mscFZgU\n",
        "http://www.youtube.com/watch?v=TQqlvMhvFJQ\n",
        "http://www.youtube.com/watch?v=aSyAn-jVFRo\n",
        "http://www.youtube.com/watch?v=55hf7Ld8QNs\n",
        "http://www.youtube.com/watch?v=JgJpI7fE9uE\n",
        "http://www.youtube.com/watch?v=gg71vwObkd4\n",
        "http://www.youtube.com/watch?v=7rghn5b_qfk\n",
        "http://www.youtube.com/watch?v=Oi03sQnRORY\n",
        "http://www.youtube.com/watch?v=CZ-pBiV9c1c\n",
        "http://www.youtube.com/watch?v=XPeNFLO23Jc\n",
        "http://www.youtube.com/watch?v=WYTz21YFesA\n",
        "http://www.youtube.com/watch?v=wbyuG8gTU8c\n",
        "http://www.youtube.com/watch?v=jzvg-4YJdJU\n",
        "http://www.youtube.com/watch?v=PHInesUbdio\n",
        "http://www.youtube.com/watch?v=9VqKk8cn6Cg\n",
        "http://www.youtube.com/watch?v=JJk-_9k0tL0\n",
        "http://www.youtube.com/watch?v=Mdxr2ooxLfA\n",
        "http://www.youtube.com/watch?v=UreW8x38Z2Y\n",
        "http://www.youtube.com/watch?v=UKJrIaJ7K9I\n",
        "http://www.youtube.com/watch?v=-44K9dATsX4\n",
        "http://www.youtube.com/watch?v=DtPyN40SjaA\n",
        "http://www.youtube.com/watch?v=IoOSkW5SidY\n",
        "http://www.youtube.com/watch?v=AU66NP1kQm0\n",
        "http://www.youtube.com/watch?v=lPZbHJAOR90\n",
        "http://www.youtube.com/watch?v=cZRX8GBlJI0\n",
        "http://www.youtube.com/watch?v=yhaOSSrooMs\n",
        "http://www.youtube.com/watch?v=gHMvyGw08wI\n",
        "http://www.youtube.com/watch?v=BDEAUST-k4M\n",
        "http://www.youtube.com/watch?v=dRu9rqwHHeQ\n",
        "http://www.youtube.com/watch?v=Ws8Aulsfnow\n",
        "http://www.youtube.com/watch?v=3jKKNqgMXKQ\n",
        "http://www.youtube.com/watch?v=oelkY9x7Lus\n",
        "http://www.youtube.com/watch?v=no7Uclm6yzU\n",
        "http://www.youtube.com/watch?v=riLnx1c3ZTM\n",
        "http://www.youtube.com/watch?v=Iwx6t2rz814\n",
        "http://www.youtube.com/watch?v=0lKkJrRbOF0\n",
        "http://www.youtube.com/watch?v=pkhEzpouPQA\n",
        "http://www.youtube.com/watch?v=A4AeupdA1gM\n",
        "http://www.youtube.com/watch?v=mXEXJ0_J5UM\n",
        "http://www.youtube.com/watch?v=vF_RjyLxwg4\n",
        "http://www.youtube.com/watch?v=_I9SNSajOWs\n",
        "http://www.youtube.com/watch?v=jGQZlWWXBQQ\n",
        "http://www.youtube.com/watch?v=IGbjGehporM\n",
        "http://www.youtube.com/watch?v=3nWlFHGKNAk\n",
        "http://www.youtube.com/watch?v=LRx7l2n77ag\n",
        "http://www.youtube.com/watch?v=MJ4baVLD4uU\n",
        "http://www.youtube.com/watch?v=jzbAIwsRLLQ\n",
        "http://www.youtube.com/watch?v=oHeZ1IwUyBA\n",
        "http://www.youtube.com/watch?v=RSwT3wHGGzU\n",
        "http://www.youtube.com/watch?v=MLL-yOv9zsk\n",
        "http://www.youtube.com/watch?v=4ecUxs3Urns\n",
        "http://www.youtube.com/watch?v=8XtY_FK7rN4\n",
        "http://www.youtube.com/watch?v=96sNG6J5-h0\n",
        "http://www.youtube.com/watch?v=pxBKvP12yxc\n",
        "http://www.youtube.com/watch?v=0oTud8PM6gA\n",
        "http://www.youtube.com/watch?v=j9lugPi8X4A\n",
        "http://www.youtube.com/watch?v=uEa-hIa0CG8\n",
        "http://www.youtube.com/watch?v=t9qkGfkAoAQ\n",
        "http://www.youtube.com/watch?v=Le3tGcP3CI8\n",
        "http://www.youtube.com/watch?v=--V4e9KpwDo\n",
        "http://www.youtube.com/watch?v=iw4BEqvvgiw\n",
        "http://www.youtube.com/watch?v=9rVsdCMxeiA\n",
        "http://www.youtube.com/watch?v=0bBKN6El1bY\n",
        "http://www.youtube.com/watch?v=bGWgqvhUfPU\n",
        "http://www.youtube.com/watch?v=qTZX5Z2c9GY\n",
        "http://www.youtube.com/watch?v=HqHhvGiAGu4\n",
        "http://www.youtube.com/watch?v=oNn-NRjBP2U\n",
        "http://www.youtube.com/watch?v=3lTItQsgSDs\n",
        "http://www.youtube.com/watch?v=F0SteVWTRso\n",
        "http://www.youtube.com/watch?v=zzasacITEng\n",
        "http://www.youtube.com/watch?v=lHKu8vKZNug\n",
        "http://www.youtube.com/watch?v=-D6CKs1G1kk\n",
        "http://www.youtube.com/watch?v=BLydMc1kLlg\n",
        "http://www.youtube.com/watch?v=BIllLnf_GA8\n",
        "http://www.youtube.com/watch?v=4hf-dLhBTAA\n",
        "http://www.youtube.com/watch?v=6ydlk5jsDdE\n",
        "http://www.youtube.com/watch?v=sUb6xg0DNVA\n",
        "http://www.youtube.com/watch?v=1JS7lenpkg0\n",
        "http://www.youtube.com/watch?v=a-QD_YOY_co\n",
        "http://www.youtube.com/watch?v=eZuIXN1tTOo\n",
        "http://www.youtube.com/watch?v=oPy2K7FTU6s\n",
        "http://www.youtube.com/watch?v=CCbCoQHGRoY\n",
        "http://www.youtube.com/watch?v=D0-Z-ZcgjcQ\n",
        "http://www.youtube.com/watch?v=uBir6iPxkO0\n",
        "http://www.youtube.com/watch?v=Q-XEu6PJfrs\n",
        "http://www.youtube.com/watch?v=JyC5s7wVgzo\n",
        "http://www.youtube.com/watch?v=qqHNjkjgxDk\n",
        "http://www.youtube.com/watch?v=OuMrannZaxA\n",
        "http://www.youtube.com/watch?v=Cb3X3XbVD8k\n",
        "http://www.youtube.com/watch?v=k-THQOcB4VM\n",
        "http://www.youtube.com/watch?v=q9m4Gc5nfnI\n",
        "http://www.youtube.com/watch?v=hzFdFPsdGUE\n",
        "http://www.youtube.com/watch?v=TwWkypaGu18\n",
        "http://www.youtube.com/watch?v=6nNiMXJNduI\n",
        "http://www.youtube.com/watch?v=XTib06BTKXo\n",
        "http://www.youtube.com/watch?v=jJqP3ZUSy5E\n",
        "http://www.youtube.com/watch?v=-MOgiKPEhRo\n",
        "http://www.youtube.com/watch?v=ZwkTiUPN0mg\n",
        "http://www.youtube.com/watch?v=qCHvXbkWqa0\n",
        "http://www.youtube.com/watch?v=LUBXQWCkcgM\n",
        "http://www.youtube.com/watch?v=bbnjAZA8WSI\n",
        "http://www.youtube.com/watch?v=rXURl1vndPg\n",
        "http://www.youtube.com/watch?v=07OxATK2Nt0\n",
        "http://www.youtube.com/watch?v=jlALctt1sAk\n",
        "http://www.youtube.com/watch?v=Qw04HeuEPbk\n",
        "http://www.youtube.com/watch?v=eN7KAbAKuE4\n",
        "http://www.youtube.com/watch?v=26pNOI3JuEU\n",
        "http://www.youtube.com/watch?v=xNQwtLkoZeU\n",
        "http://www.youtube.com/watch?v=GD1AkKNgbBU\n"
       ]
      }
     ],
     "prompt_number": 15
    },
    {
     "cell_type": "code",
     "collapsed": false,
     "input": [],
     "language": "python",
     "metadata": {},
     "outputs": []
    }
   ],
   "metadata": {}
  }
 ]
}