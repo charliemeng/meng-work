{
 "metadata": {
  "name": "",
  "signature": "sha256:283791e5c0da377bb1446118d4de342bc05fc6043351e41b958839454eadf123"
 },
 "nbformat": 3,
 "nbformat_minor": 0,
 "worksheets": [
  {
   "cells": [
    {
     "cell_type": "code",
     "collapsed": false,
     "input": [
      "import json\n",
      "import time\n",
      "cur_date = time.strftime(\"%d-%m-%Y\")\n",
      "youtubeURLbase = \"http://www.youtube.com/watch?v=\""
     ],
     "language": "python",
     "metadata": {},
     "outputs": [],
     "prompt_number": 2
    },
    {
     "cell_type": "markdown",
     "metadata": {},
     "source": [
      "To get a bunch of youtube URLs to download the videos from:"
     ]
    },
    {
     "cell_type": "code",
     "collapsed": false,
     "input": [
      "files_to_download = open(\"to_download_\" + cur_date + \".txt\", \"w\")\n",
      "with open(\"videos_0829.json\") as f:\n",
      "    x = 0\n",
      "    for line in f:\n",
      "        data = json.loads(line)\n",
      "        if data.get(\"video_kind\", \"NONE\") != \"INTRO\":\n",
      "            files_to_download.write(youtubeURLbase + data[\"video_id\"] + \"\\n\")\n",
      "            x += 1\n",
      "files_to_download.close()\n",
      "print \"Number of videos that are not intros: \", x"
     ],
     "language": "python",
     "metadata": {},
     "outputs": [
      {
       "output_type": "stream",
       "stream": "stdout",
       "text": [
        "Number of videos:  6044\n"
       ]
      }
     ],
     "prompt_number": 41
    },
    {
     "cell_type": "markdown",
     "metadata": {},
     "source": [
      "The keys for Juho's JSON:"
     ]
    },
    {
     "cell_type": "code",
     "collapsed": false,
     "input": [
      "from pprint import pprint\n",
      "with open(\"videos_0829.json\") as f:\n",
      "    l = f.readline()\n",
      "    data = json.loads(l)\n",
      "    print \"Keys: \"\n",
      "    pprint(data.keys())\n",
      "    print \"\\nFirst data point: \"\n",
      "    pprint(data)"
     ],
     "language": "python",
     "metadata": {},
     "outputs": [
      {
       "output_type": "stream",
       "stream": "stdout",
       "text": [
        "Keys: \n",
        "[u'lecturer',\n",
        " u'recording_style',\n",
        " u'module_index',\n",
        " u'video_kind',\n",
        " u'video_id',\n",
        " u'video_src',\n",
        " u'host',\n",
        " u'week_number',\n",
        " u'duration',\n",
        " u'course_name',\n",
        " u'_id',\n",
        " u'sequence_number',\n",
        " u'video_name']\n",
        "\n",
        "First data point: \n",
        "{u'_id': {u'$oid': u'51f92fd3926246be4ab02aaf'},\n",
        " u'course_name': u'PH207x-Fall-2012',\n",
        " u'duration': 1238,\n",
        " u'host': u'youtube',\n",
        " u'lecturer': u'Cook and Pagano',\n",
        " u'module_index': 1,\n",
        " u'recording_style': u'H',\n",
        " u'sequence_number': 1,\n",
        " u'video_id': u'53uu-Ka8_L0',\n",
        " u'video_kind': u'INTRO',\n",
        " u'video_name': u'i4x-HarvardX-PH207x-video-Meet_the_Instructors',\n",
        " u'video_src': u'https://www.youtube.com/embed/53uu-Ka8_L0?controls=0&wmode=transparent&rel=0&showinfo=0&enablejsapi=1&modestbranding=1&origin=https%3A%2F%2Fcourses.edx.org',\n",
        " u'week_number': 0}\n"
       ]
      }
     ],
     "prompt_number": 33
    },
    {
     "cell_type": "code",
     "collapsed": false,
     "input": [
      "from collections import Counter\n",
      "list_of_kinds = []\n",
      "list_of_recording_styles = []\n",
      "with open(\"videos_0829.json\") as f:\n",
      "    for l in f:\n",
      "        data = json.loads(l)\n",
      "        list_of_kinds.append(data.get(\"video_kind\", \"NONE\"))\n",
      "        list_of_recording_styles.append(data.get(\"recording_style\", \"NONE\"))\n",
      "print Counter(list_of_kinds)\n",
      "print Counter(list_of_recording_styles)"
     ],
     "language": "python",
     "metadata": {},
     "outputs": [
      {
       "output_type": "stream",
       "stream": "stdout",
       "text": [
        "Counter({'NONE': 5207, u'LEC': 644, u'TUT': 127, u'INTRO': 25, u'SOLN': 24, u'PROB': 21, u'DEMO': 10, u'GUEST': 6, u'EXTRA': 5})\n",
        "Counter({'NONE': 5207, u'L': 211, u'HSP': 184, u'S': 162, u'SC': 78, u'K': 58, u'C': 47, u'HS': 46, u'HSC': 32, u'H': 19, u'V': 7, u'SV': 5, u'LS': 4, u'KC': 3, u'HCP': 3, u'HC': 2, u'HKP': 1})\n"
       ]
      }
     ],
     "prompt_number": 43
    },
    {
     "cell_type": "code",
     "collapsed": false,
     "input": [
      "from collections import Counter\n",
      "files_to_download_H = open(\"to_download_H_\" + cur_date + \".txt\", \"w\")\n",
      "files_to_download_LP = open(\"to_download_LP_\" + cur_date + \".txt\", \"w\")\n",
      "files_to_download_SCK = open(\"to_download_SCK_\" + cur_date + \".txt\", \"w\")\n",
      "list_of_recording_styles = []\n",
      "counter = 0\n",
      "num_in_category = 20 # get 20 per category as a start\n",
      "with open(\"videos_0829.json\") as f:\n",
      "    for l in f:\n",
      "        data = json.loads(l)\n",
      "        if data.get(\"video_kind\", \"NONE\") != \"INTRO\":\n",
      "            style = data.get(\"recording_style\", \"NONE\")\n",
      "            if style != \"NONE\":\n",
      "                style_list = list(style)\n",
      "                if 'H' in style_list:\n",
      "                    files_to_download_H.write(youtubeURLbase + data[\"video_id\"] + \"\\n\")\n",
      "                if 'L' in style_list or 'P' in style_list:\n",
      "                    files_to_download_LP.write(youtubeURLbase + data[\"video_id\"] + \"\\n\")\n",
      "                if 'S' in style_list or 'C' in style_list or 'K' in style_list:\n",
      "                    files_to_download_SCK.write(youtubeURLbase + data[\"video_id\"] + \"\\n\")\n",
      "                list_of_recording_styles.extend(style_list)\n",
      "            else:\n",
      "                list_of_recording_styles.append(\"NONE\")\n",
      "print Counter(list_of_recording_styles)\n",
      "print \"Head = \", Counter(list_of_recording_styles)['H']\n",
      "print \"Lecture, presentation = \", Counter(list_of_recording_styles)['L'] + Counter(list_of_recording_styles)['P']\n",
      "print \"Slides, Code, Khan = \", Counter(list_of_recording_styles)['S'] + Counter(list_of_recording_styles)['C'] + Counter(list_of_recording_styles)['K']\n",
      "files_to_download_H.close()\n",
      "files_to_download_LP.close()\n",
      "files_to_download_SCK.close()"
     ],
     "language": "python",
     "metadata": {},
     "outputs": [
      {
       "output_type": "stream",
       "stream": "stdout",
       "text": [
        "Counter({'NONE': 5207, u'S': 503, u'H': 267, u'L': 212, u'P': 188, u'C': 165, u'K': 62, u'V': 11})\n",
        "Head =  267\n",
        "Lecture, presentation =  400\n",
        "Slides, Code, Khan =  730\n"
       ]
      }
     ],
     "prompt_number": 10
    },
    {
     "cell_type": "code",
     "collapsed": false,
     "input": [
      "from collections import Counter\n",
      "import random\n",
      "files_to_download = open(\"to_download_\" + cur_date + \".txt\", \"w\")\n",
      "sample = {}\n",
      "num_vids_per_course = 30\n",
      "counter = 0\n",
      "with open(\"videos_0829.json\") as f:\n",
      "    for line in f:\n",
      "        data = json.loads(line)\n",
      "        cn = data.get('course_name', 'NONE')\n",
      "        if cn != 'NONE':\n",
      "            data[\"youtube_URL\"] = youtubeURLbase + data[\"video_id\"]\n",
      "            sample[counter] = data\n",
      "            counter += 1\n",
      "#             vid_urls.append(youtubeURLbase + data[\"video_id\"])\n",
      "#                 files_to_download.write(youtubeURLbase + data[\"video_id\"] + \"\\n\")\n",
      "print \"Course names = \", Counter(course_names)\n",
      "sample_list = random.sample(sample, num_vids_per_course*4)\n",
      "for s in sample_list:\n",
      "    files_to_download.write(sample[s]['youtube_URL'])\n",
      "    print sample[s]['youtube_URL']\n",
      "files_to_download.close()"
     ],
     "language": "python",
     "metadata": {},
     "outputs": [
      {
       "output_type": "stream",
       "stream": "stdout",
       "text": [
        "Course names =  Counter({u'PH207x-Fall-2012': 301, u'3.091x-Fall-2012': 271, u'CS188x-Fall-2012': 149, u'6.00x-Fall-2012': 141})\n",
        "http://www.youtube.com/watch?v=k4VnW2RVGbI\n",
        "http://www.youtube.com/watch?v=U5P41I2wFVs\n"
       ]
      }
     ],
     "prompt_number": 14
    },
    {
     "cell_type": "code",
     "collapsed": false,
     "input": [],
     "language": "python",
     "metadata": {},
     "outputs": []
    }
   ],
   "metadata": {}
  }
 ]
}