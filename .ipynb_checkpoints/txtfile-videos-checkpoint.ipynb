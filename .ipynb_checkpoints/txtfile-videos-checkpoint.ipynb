{
 "metadata": {
  "name": "",
  "signature": "sha256:934949067df37d8d7bb81a219127e3ae227d609da637c91923048ac80c79f586"
 },
 "nbformat": 3,
 "nbformat_minor": 0,
 "worksheets": [
  {
   "cells": [
    {
     "cell_type": "code",
     "collapsed": false,
     "input": [
      "import time\n",
      "cur_date = time.strftime(\"%d-%m-%Y\")"
     ],
     "language": "python",
     "metadata": {},
     "outputs": [],
     "prompt_number": 38
    },
    {
     "cell_type": "code",
     "collapsed": false,
     "input": [
      "def vids_file(start_vid, num_vids):\n",
      "    all_vids_file = \"vids_to_download/to_download_09-09-2014.txt\"\n",
      "    to_write_file_name = \"vids_to_download/to_download_\" + cur_date + \"_\" + str(start_vid) + \"_\" + str(num_vids + start_vid - 1) + \".txt\"\n",
      "    f_to_write = open(to_write_file_name, \"w\")\n",
      "    counter = 0\n",
      "    with open(all_vids_file) as f:\n",
      "        for line in f:\n",
      "            if counter >= start_vid and counter < num_vids + start_vid:\n",
      "                f_to_write.write(line)\n",
      "                print line\n",
      "            counter += 1\n",
      "    f_to_write.close()"
     ],
     "language": "python",
     "metadata": {},
     "outputs": [],
     "prompt_number": 62
    },
    {
     "cell_type": "code",
     "collapsed": false,
     "input": [
      "vids_file(10, 10)"
     ],
     "language": "python",
     "metadata": {},
     "outputs": [
      {
       "output_type": "stream",
       "stream": "stdout",
       "text": [
        "http://www.youtube.com/watch?v=R2MF71BTDNE\n",
        "\n",
        "http://www.youtube.com/watch?v=pcKARsZY_-U\n",
        "\n",
        "http://www.youtube.com/watch?v=tgUZb7NROcc\n",
        "\n",
        "http://www.youtube.com/watch?v=ocuieiwbDFg\n",
        "\n",
        "http://www.youtube.com/watch?v=UU-f_nOB0Ok\n",
        "\n",
        "http://www.youtube.com/watch?v=CJuDqS1b9DM\n",
        "\n",
        "http://www.youtube.com/watch?v=W4cNCJUxN1Y\n",
        "\n",
        "http://www.youtube.com/watch?v=d9TYKRMqyHo\n",
        "\n",
        "http://www.youtube.com/watch?v=EjSSJSDLIhs\n",
        "\n",
        "http://www.youtube.com/watch?v=9Ko-lDhuyX4\n",
        "\n"
       ]
      }
     ],
     "prompt_number": 65
    }
   ],
   "metadata": {}
  }
 ]
}