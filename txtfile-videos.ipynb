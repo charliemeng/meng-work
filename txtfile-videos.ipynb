{
 "metadata": {
  "name": "",
  "signature": "sha256:ed43c8a0dbe901c5d0afa1c04aad502ad98834b5192a41175dcb76a0c7f706ba"
 },
 "nbformat": 3,
 "nbformat_minor": 0,
 "worksheets": [
  {
   "cells": [
    {
     "cell_type": "code",
     "collapsed": false,
     "input": [
      "import time\n",
      "cur_date = time.strftime(\"%d-%m-%Y\")"
     ],
     "language": "python",
     "metadata": {},
     "outputs": [],
     "prompt_number": 38
    },
    {
     "cell_type": "code",
     "collapsed": false,
     "input": [
      "def vids_file(start_vid, num_vids):\n",
      "    all_vids_file = \"vids_to_download/to_download_09-09-2014.txt\"\n",
      "    to_write_file_name = \"vids_to_download/to_download_\" + cur_date + \"_\" + str(start_vid) + \"_\" + str(num_vids + start_vid - 1) + \".txt\"\n",
      "    f_to_write = open(to_write_file_name, \"w\")\n",
      "    counter = 0\n",
      "    with open(all_vids_file) as f:\n",
      "        for line in f:\n",
      "            if counter >= start_vid and counter < num_vids + start_vid:\n",
      "                f_to_write.write(line)\n",
      "                print line\n",
      "            counter += 1\n",
      "    f_to_write.close()"
     ],
     "language": "python",
     "metadata": {},
     "outputs": [],
     "prompt_number": 62
    },
    {
     "cell_type": "code",
     "collapsed": false,
     "input": [
      "vids_file(10, 10)"
     ],
     "language": "python",
     "metadata": {},
     "outputs": [
      {
       "output_type": "stream",
       "stream": "stdout",
       "text": [
        "http://www.youtube.com/watch?v=xGQ_jYyI8tU\n",
        "\n",
        "http://www.youtube.com/watch?v=aCfLrC128O8\n",
        "\n",
        "http://www.youtube.com/watch?v=NWe1Hnwr6OM\n",
        "\n",
        "http://www.youtube.com/watch?v=oPy2K7FTU6s\n",
        "\n",
        "http://www.youtube.com/watch?v=2E090bO08hU\n",
        "\n",
        "http://www.youtube.com/watch?v=vF_RjyLxwg4\n",
        "\n",
        "http://www.youtube.com/watch?v=-Vo4pgN0ry4\n",
        "\n",
        "http://www.youtube.com/watch?v=LUBXQWCkcgM\n",
        "\n",
        "http://www.youtube.com/watch?v=ZmTJ4ICwEIU\n",
        "\n",
        "http://www.youtube.com/watch?v=gtf0QD1ERTc\n",
        "\n"
       ]
      }
     ],
     "prompt_number": 66
    }
   ],
   "metadata": {}
  }
 ]
}