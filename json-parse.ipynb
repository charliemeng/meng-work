{
 "metadata": {
  "name": "",
  "signature": "sha256:da5ba6181733fe8ce14296c84b00fb2cc68fa225140fb79adb2a3b1ee7ca6fe5"
 },
 "nbformat": 3,
 "nbformat_minor": 0,
 "worksheets": [
  {
   "cells": [
    {
     "cell_type": "code",
     "collapsed": false,
     "input": [
      "import json\n",
      "import time\n",
      "cur_date = time.strftime(\"%d-%m-%Y\")\n",
      "youtubeURLbase = \"http://www.youtube.com/watch?v=\""
     ],
     "language": "python",
     "metadata": {},
     "outputs": [],
     "prompt_number": 37
    },
    {
     "cell_type": "markdown",
     "metadata": {},
     "source": [
      "To get a bunch of youtube URLs to download the videos from:"
     ]
    },
    {
     "cell_type": "code",
     "collapsed": false,
     "input": [
      "files_to_download = open(\"to_download_\" + cur_date + \".txt\", \"w\")\n",
      "with open(\"videos_0829.json\") as f:\n",
      "    x = 0\n",
      "    for line in f:\n",
      "        data = json.loads(line)\n",
      "        if data.get(\"video_kind\", \"NONE\") != \"INTRO\":\n",
      "            files_to_download.write(youtubeURLbase + data[\"video_id\"] + \"\\n\")\n",
      "            x += 1\n",
      "files_to_download.close()\n",
      "print \"Number of videos that are not intros: \", x"
     ],
     "language": "python",
     "metadata": {},
     "outputs": [
      {
       "output_type": "stream",
       "stream": "stdout",
       "text": [
        "Number of videos:  6044\n"
       ]
      }
     ],
     "prompt_number": 41
    },
    {
     "cell_type": "markdown",
     "metadata": {},
     "source": [
      "The keys for Juho's JSON:"
     ]
    },
    {
     "cell_type": "code",
     "collapsed": false,
     "input": [
      "from pprint import pprint\n",
      "with open(\"videos_0829.json\") as f:\n",
      "    l = f.readline()\n",
      "    data = json.loads(l)\n",
      "    print \"Keys: \"\n",
      "    pprint(data.keys())\n",
      "    print \"\\nFirst data point: \"\n",
      "    pprint(data)"
     ],
     "language": "python",
     "metadata": {},
     "outputs": [
      {
       "output_type": "stream",
       "stream": "stdout",
       "text": [
        "Keys: \n",
        "[u'lecturer',\n",
        " u'recording_style',\n",
        " u'module_index',\n",
        " u'video_kind',\n",
        " u'video_id',\n",
        " u'video_src',\n",
        " u'host',\n",
        " u'week_number',\n",
        " u'duration',\n",
        " u'course_name',\n",
        " u'_id',\n",
        " u'sequence_number',\n",
        " u'video_name']\n",
        "\n",
        "First data point: \n",
        "{u'_id': {u'$oid': u'51f92fd3926246be4ab02aaf'},\n",
        " u'course_name': u'PH207x-Fall-2012',\n",
        " u'duration': 1238,\n",
        " u'host': u'youtube',\n",
        " u'lecturer': u'Cook and Pagano',\n",
        " u'module_index': 1,\n",
        " u'recording_style': u'H',\n",
        " u'sequence_number': 1,\n",
        " u'video_id': u'53uu-Ka8_L0',\n",
        " u'video_kind': u'INTRO',\n",
        " u'video_name': u'i4x-HarvardX-PH207x-video-Meet_the_Instructors',\n",
        " u'video_src': u'https://www.youtube.com/embed/53uu-Ka8_L0?controls=0&wmode=transparent&rel=0&showinfo=0&enablejsapi=1&modestbranding=1&origin=https%3A%2F%2Fcourses.edx.org',\n",
        " u'week_number': 0}\n"
       ]
      }
     ],
     "prompt_number": 33
    },
    {
     "cell_type": "code",
     "collapsed": false,
     "input": [
      "from collections import Counter\n",
      "list_of_kinds = []\n",
      "list_of_recording_styles = []\n",
      "with open(\"videos_0829.json\") as f:\n",
      "    for l in f:\n",
      "        data = json.loads(l)\n",
      "        list_of_kinds.append(data.get(\"video_kind\", \"NONE\"))\n",
      "        list_of_recording_styles.append(data.get(\"recording_style\", \"NONE\"))\n",
      "print Counter(list_of_kinds)\n",
      "print Counter(list_of_recording_styles)"
     ],
     "language": "python",
     "metadata": {},
     "outputs": [
      {
       "output_type": "stream",
       "stream": "stdout",
       "text": [
        "Counter({'NONE': 5207, u'LEC': 644, u'TUT': 127, u'INTRO': 25, u'SOLN': 24, u'PROB': 21, u'DEMO': 10, u'GUEST': 6, u'EXTRA': 5})\n",
        "Counter({'NONE': 5207, u'L': 211, u'HSP': 184, u'S': 162, u'SC': 78, u'K': 58, u'C': 47, u'HS': 46, u'HSC': 32, u'H': 19, u'V': 7, u'SV': 5, u'LS': 4, u'KC': 3, u'HCP': 3, u'HC': 2, u'HKP': 1})\n"
       ]
      }
     ],
     "prompt_number": 43
    }
   ],
   "metadata": {}
  }
 ]
}